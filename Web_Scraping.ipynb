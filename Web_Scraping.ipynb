{
  "nbformat": 4,
  "nbformat_minor": 0,
  "metadata": {
    "colab": {
      "name": "Amazon - Web Scraping.ipynb",
      "provenance": [],
      "collapsed_sections": [],
      "authorship_tag": "ABX9TyP9tIZS6Kk7lHDzjPlvREoH",
      "include_colab_link": true
    },
    "kernelspec": {
      "name": "python3",
      "display_name": "Python 3"
    }
  },
  "cells": [
    {
      "cell_type": "markdown",
      "metadata": {
        "id": "view-in-github",
        "colab_type": "text"
      },
      "source": [
        "<a href=\"https://colab.research.google.com/github/cesarvinici/python-web-scraping/blob/master/Web_Scraping.ipynb\" target=\"_parent\"><img src=\"https://colab.research.google.com/assets/colab-badge.svg\" alt=\"Open In Colab\"/></a>"
      ]
    },
    {
      "cell_type": "code",
      "metadata": {
        "id": "qFX4f8UNfBf8",
        "colab_type": "code",
        "colab": {
          "base_uri": "https://localhost:8080/",
          "height": 34
        },
        "outputId": "71ee4e9a-26cd-4ab2-ae79-0eaa31f0ea65"
      },
      "source": [
        "# Install BeautifulSoup\n",
        "!pip install beautifulsoup4"
      ],
      "execution_count": 1,
      "outputs": [
        {
          "output_type": "stream",
          "text": [
            "Requirement already satisfied: beautifulsoup4 in /usr/local/lib/python3.6/dist-packages (4.6.3)\n"
          ],
          "name": "stdout"
        }
      ]
    },
    {
      "cell_type": "code",
      "metadata": {
        "id": "OeQnxN-YfPKU",
        "colab_type": "code",
        "colab": {}
      },
      "source": [
        "import requests\n",
        "from bs4 import BeautifulSoup\n",
        "import pandas as pd"
      ],
      "execution_count": 0,
      "outputs": []
    },
    {
      "cell_type": "code",
      "metadata": {
        "id": "5gRa2qC8fY7c",
        "colab_type": "code",
        "colab": {}
      },
      "source": [
        "# URL for the best 50 games on amazon\n",
        "games_url = \"https://www.amazon.com.br/gp/bestsellers/videogames/16253332011?ref_=Oct_BSellerC_16253332011_SAll&pf_rd_p=19515d55-8782-5cf6-a8be-9f46bc821a1c&pf_rd_s=merchandised-search-6&pf_rd_t=101&pf_rd_i=16253332011&pf_rd_m=A1ZZFT5FULY4LN&pf_rd_r=MZDXV2R13TK76XJ7CZ0H&pf_rd_r=MZDXV2R13TK76XJ7CZ0H&pf_rd_p=19515d55-8782-5cf6-a8be-9f46bc821a1c\""
      ],
      "execution_count": 0,
      "outputs": []
    },
    {
      "cell_type": "code",
      "metadata": {
        "id": "TwRyRngefk8U",
        "colab_type": "code",
        "colab": {}
      },
      "source": [
        "# request the games_url\n",
        "req = requests.get(games_url)\n",
        "itens_list = list()\n",
        "if(req.status_code == 200):\n",
        "  # get the response content\n",
        "  content = req.content\n",
        "\n",
        "  soup = BeautifulSoup(content, 'html.parser')\n",
        "  # iterate over the <li> that contains the games list\n",
        "  for li in soup.find_all('li', attrs={\"class\": \"zg-item-immersion\"}):\n",
        "    itens = {}\n",
        "    #Extract the game name and plataform\n",
        "    game = li.findChild(\"span\").findChild(\"div\").findChild(\"span\", attrs={\"class\": \"zg-item\"}).findChild(\"a\").findChild('img', alt=True)['alt']\n",
        "    game = [g.strip() for g in game.split('-')]\n",
        "    #If we don't have a plataform it will throw an exception, thats why the try/catch\n",
        "    try:\n",
        "      index = game.index('PlayStation 4')\n",
        "      plt = game[index] \n",
        "    except ValueError:\n",
        "      index = len(game)\n",
        "      plt = \"\"\n",
        "\n",
        "    price = li.findChild(\"span\", attrs={\"class\": \"p13n-sc-price\"})\n",
        "    obs = li.findChild(\"span\", attrs={\"class\": \"zg-release-date\"})\n",
        "    \n",
        "    itens['name']      = \" - \".join(game[:index])\n",
        "    itens[\"plataform\"] = plt\n",
        "    itens['price']     = '-' if price is None else price.get_text()\n",
        "    itens['obs']       = \"\"  if obs is None else obs.get_text()\n",
        "    itens_list.append(itens)\n"
      ],
      "execution_count": 0,
      "outputs": []
    },
    {
      "cell_type": "code",
      "metadata": {
        "id": "J9DyZ40BvLBC",
        "colab_type": "code",
        "colab": {
          "base_uri": "https://localhost:8080/",
          "height": 204
        },
        "outputId": "20a89129-a0f2-4e0d-d09b-df6ffa7e1b14"
      },
      "source": [
        "df = pd.DataFrame(itens_list)\n",
        "df.to_csv(\"games.csv\")\n",
        "df.head()"
      ],
      "execution_count": 172,
      "outputs": [
        {
          "output_type": "execute_result",
          "data": {
            "text/html": [
              "<div>\n",
              "<style scoped>\n",
              "    .dataframe tbody tr th:only-of-type {\n",
              "        vertical-align: middle;\n",
              "    }\n",
              "\n",
              "    .dataframe tbody tr th {\n",
              "        vertical-align: top;\n",
              "    }\n",
              "\n",
              "    .dataframe thead th {\n",
              "        text-align: right;\n",
              "    }\n",
              "</style>\n",
              "<table border=\"1\" class=\"dataframe\">\n",
              "  <thead>\n",
              "    <tr style=\"text-align: right;\">\n",
              "      <th></th>\n",
              "      <th>name</th>\n",
              "      <th>plataform</th>\n",
              "      <th>price</th>\n",
              "      <th>obs</th>\n",
              "    </tr>\n",
              "  </thead>\n",
              "  <tbody>\n",
              "    <tr>\n",
              "      <th>0</th>\n",
              "      <td>Resident Evil 3</td>\n",
              "      <td>PlayStation 4</td>\n",
              "      <td>R$251,99</td>\n",
              "      <td>Data de lançamento: 3 de abril de 2020</td>\n",
              "    </tr>\n",
              "    <tr>\n",
              "      <th>1</th>\n",
              "      <td>FIFA 20 - Edição Padrão</td>\n",
              "      <td>PlayStation 4</td>\n",
              "      <td>R$140,00</td>\n",
              "      <td></td>\n",
              "    </tr>\n",
              "    <tr>\n",
              "      <th>2</th>\n",
              "      <td>Controle Dualshock 4 Jet + Voucher Fortnite</td>\n",
              "      <td>PlayStation 4</td>\n",
              "      <td>R$217,90</td>\n",
              "      <td></td>\n",
              "    </tr>\n",
              "    <tr>\n",
              "      <th>3</th>\n",
              "      <td>Pro Evolution Soccer eFootball PES 2020</td>\n",
              "      <td>PlayStation 4</td>\n",
              "      <td>R$115,75</td>\n",
              "      <td></td>\n",
              "    </tr>\n",
              "    <tr>\n",
              "      <th>4</th>\n",
              "      <td>Gran Turismo Sport Hits</td>\n",
              "      <td>PlayStation 4</td>\n",
              "      <td>R$59,90</td>\n",
              "      <td></td>\n",
              "    </tr>\n",
              "  </tbody>\n",
              "</table>\n",
              "</div>"
            ],
            "text/plain": [
              "                                          name  ...                                     obs\n",
              "0                              Resident Evil 3  ...  Data de lançamento: 3 de abril de 2020\n",
              "1                      FIFA 20 - Edição Padrão  ...                                        \n",
              "2  Controle Dualshock 4 Jet + Voucher Fortnite  ...                                        \n",
              "3      Pro Evolution Soccer eFootball PES 2020  ...                                        \n",
              "4                      Gran Turismo Sport Hits  ...                                        \n",
              "\n",
              "[5 rows x 4 columns]"
            ]
          },
          "metadata": {
            "tags": []
          },
          "execution_count": 172
        }
      ]
    }
  ]
}