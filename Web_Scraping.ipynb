{
 "cells": [
  {
   "cell_type": "markdown",
   "metadata": {
    "colab_type": "text",
    "id": "view-in-github"
   },
   "source": [
    "<a href=\"https://colab.research.google.com/github/cesarvinici/python-web-scraping/blob/master/Web_Scraping.ipynb\" target=\"_parent\"><img src=\"https://colab.research.google.com/assets/colab-badge.svg\" alt=\"Open In Colab\"/></a>"
   ]
  },
  {
   "cell_type": "code",
   "execution_count": 1,
   "metadata": {
    "colab": {
     "base_uri": "https://localhost:8080/",
     "height": 34
    },
    "colab_type": "code",
    "collapsed": true,
    "id": "qFX4f8UNfBf8",
    "outputId": "71ee4e9a-26cd-4ab2-ae79-0eaa31f0ea65"
   },
   "outputs": [
    {
     "name": "stdout",
     "output_type": "stream",
     "text": [
      "Defaulting to user installation because normal site-packages is not writeable\n",
      "Collecting beautifulsoup4\n",
      "  Downloading beautifulsoup4-4.9.1-py3-none-any.whl (115 kB)\n",
      "\u001b[K     |████████████████████████████████| 115 kB 4.0 MB/s eta 0:00:01\n",
      "\u001b[?25hCollecting soupsieve>1.2\n",
      "  Downloading soupsieve-2.0.1-py3-none-any.whl (32 kB)\n",
      "Installing collected packages: soupsieve, beautifulsoup4\n",
      "Successfully installed beautifulsoup4-4.9.1 soupsieve-2.0.1\n"
     ]
    }
   ],
   "source": [
    "# Install BeautifulSoup\n",
    "!pip install beautifulsoup4"
   ]
  },
  {
   "cell_type": "code",
   "execution_count": 2,
   "metadata": {
    "colab": {},
    "colab_type": "code",
    "id": "OeQnxN-YfPKU"
   },
   "outputs": [],
   "source": [
    "import requests\n",
    "from bs4 import BeautifulSoup\n",
    "import pandas as pd"
   ]
  },
  {
   "cell_type": "code",
   "execution_count": 3,
   "metadata": {
    "colab": {},
    "colab_type": "code",
    "id": "5gRa2qC8fY7c"
   },
   "outputs": [],
   "source": [
    "# URL for the best 50 games on amazon\n",
    "games_url = \"https://www.amazon.com.br/gp/bestsellers/videogames/16253332011?ref_=Oct_BSellerC_16253332011_SAll&pf_rd_p=19515d55-8782-5cf6-a8be-9f46bc821a1c&pf_rd_s=merchandised-search-6&pf_rd_t=101&pf_rd_i=16253332011&pf_rd_m=A1ZZFT5FULY4LN&pf_rd_r=MZDXV2R13TK76XJ7CZ0H&pf_rd_r=MZDXV2R13TK76XJ7CZ0H&pf_rd_p=19515d55-8782-5cf6-a8be-9f46bc821a1c\""
   ]
  },
  {
   "cell_type": "code",
   "execution_count": 4,
   "metadata": {
    "colab": {},
    "colab_type": "code",
    "id": "TwRyRngefk8U"
   },
   "outputs": [],
   "source": [
    "# request the games_url\n",
    "req = requests.get(games_url)\n",
    "itens_list = list()\n",
    "if(req.status_code == 200):\n",
    "  # get the response content\n",
    "  content = req.content\n",
    "\n",
    "  soup = BeautifulSoup(content, 'html.parser')\n",
    "  # iterate over the <li> that contains the games list\n",
    "  for li in soup.find_all('li', attrs={\"class\": \"zg-item-immersion\"}):\n",
    "    itens = {}\n",
    "    #Extract the game name and plataform\n",
    "    game = li.findChild(\"span\").findChild(\"div\").findChild(\"span\", attrs={\"class\": \"zg-item\"}).findChild(\"a\").findChild('img', alt=True)['alt']\n",
    "    game = [g.strip() for g in game.split('-')]\n",
    "    #If we don't have a plataform it will throw an exception, thats why the try/catch\n",
    "    try:\n",
    "      index = game.index('PlayStation 4')\n",
    "      plt = game[index] \n",
    "    except ValueError:\n",
    "      index = len(game)\n",
    "      plt = \"\"\n",
    "\n",
    "    price = li.findChild(\"span\", attrs={\"class\": \"p13n-sc-price\"})\n",
    "    obs = li.findChild(\"span\", attrs={\"class\": \"zg-release-date\"})\n",
    "    \n",
    "    itens['name']      = \" - \".join(game[:index])\n",
    "    itens[\"plataform\"] = plt\n",
    "    itens['price']     = '-' if price is None else price.get_text()\n",
    "    itens['obs']       = \"\"  if obs is None else obs.get_text()\n",
    "    itens_list.append(itens)\n"
   ]
  },
  {
   "cell_type": "code",
   "execution_count": 6,
   "metadata": {
    "colab": {
     "base_uri": "https://localhost:8080/",
     "height": 204
    },
    "colab_type": "code",
    "id": "J9DyZ40BvLBC",
    "outputId": "20a89129-a0f2-4e0d-d09b-df6ffa7e1b14"
   },
   "outputs": [],
   "source": [
    "df = pd.DataFrame(itens_list)"
   ]
  },
  {
   "cell_type": "code",
   "execution_count": 1,
   "metadata": {},
   "outputs": [
    {
     "name": "stdout",
     "output_type": "stream",
     "text": [
      ",name,obs,plataform,price\r\n",
      "0,Ghost Of Tsushima Edição Padrão,,PlayStation 4,\"R$228,00\"\r\n",
      "1,The Last of Us Part II - Edição  Padrão,,PlayStation 4,\"R$261,95\"\r\n",
      "2,Controle Dualshock 4,,PlayStation 4,\"R$265,90\"\r\n",
      "3,Horizon Zero Dawn Complete Edition Hits,,PlayStation 4,\"R$56,90\"\r\n",
      "4,Pro Evolution Soccer eFootball PES 2020,,PlayStation 4,\"R$109,67\"\r\n",
      "5,Death Stranding - Edição Padrão,,PlayStation 4,\"R$82,90\"\r\n",
      "6,God Of War Hits,,PlayStation 4,\"R$69,38\"\r\n",
      "7,Headset Sem Fio Série Ouro - Preto - Playstation 4,,,\"R$458,45\"\r\n",
      "8,The Last Of Us Remasterizado Hits,,PlayStation 4,\"R$62,90\"\r\n"
     ]
    }
   ],
   "source": [
    "!head -n10 games.csv"
   ]
  }
 ],
 "metadata": {
  "colab": {
   "authorship_tag": "ABX9TyP9tIZS6Kk7lHDzjPlvREoH",
   "collapsed_sections": [],
   "include_colab_link": true,
   "name": "Amazon - Web Scraping.ipynb",
   "provenance": []
  },
  "kernelspec": {
   "display_name": "Python 3",
   "language": "python",
   "name": "python3"
  },
  "language_info": {
   "codemirror_mode": {
    "name": "ipython",
    "version": 3
   },
   "file_extension": ".py",
   "mimetype": "text/x-python",
   "name": "python",
   "nbconvert_exporter": "python",
   "pygments_lexer": "ipython3",
   "version": "3.6.9"
  }
 },
 "nbformat": 4,
 "nbformat_minor": 1
}
